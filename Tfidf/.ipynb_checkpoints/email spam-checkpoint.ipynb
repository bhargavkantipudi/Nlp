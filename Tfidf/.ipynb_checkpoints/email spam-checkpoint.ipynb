{
 "cells": [
  {
   "cell_type": "code",
   "execution_count": 84,
   "metadata": {},
   "outputs": [],
   "source": [
    "import numpy as np\n",
    "import pandas as pd\n",
    "import re\n",
    "from nltk.corpus import stopwords\n",
    "from nltk.stem.porter import PorterStemmer\n",
    "from nltk.stem import WordNetLemmatizer\n",
    "from sklearn.feature_extraction.text import TfidfVectorizer\n",
    "from sklearn.model_selection import train_test_split\n",
    "from sklearn.linear_model import LogisticRegression,LogisticRegressionCV\n",
    "from sklearn.metrics import  accuracy_score,confusion_matrix,classification_report\n",
    "\n",
    "from sklearn.svm import SVC"
   ]
  },
  {
   "cell_type": "code",
   "execution_count": 83,
   "metadata": {},
   "outputs": [
    {
     "name": "stdout",
     "output_type": "stream",
     "text": [
      "   target                                               text\n",
      "0       0  Go until jurong point, crazy.. Available only ...\n",
      "1       0                      Ok lar... Joking wif u oni...\n",
      "2       1  Free entry in 2 a wkly comp to win FA Cup fina...\n",
      "3       0  U dun say so early hor... U c already then say...\n",
      "4       0  Nah I don't think he goes to usf, he lives aro...\n",
      "(5572, 2)\n"
     ]
    },
    {
     "data": {
      "text/plain": [
       "0    4825\n",
       "1     747\n",
       "Name: target, dtype: int64"
      ]
     },
     "execution_count": 83,
     "metadata": {},
     "output_type": "execute_result"
    }
   ],
   "source": [
    "data=pd.read_csv(\"SMSSpamCollection\",sep=\"\\t\")\n",
    "data.target.replace(to_replace={\"ham\":0,\"spam\":1},inplace=True)\n",
    "#spam == 1\n",
    "print(data.head())\n",
    "print(data.shape)\n",
    "data.target.value_counts()"
   ]
  },
  {
   "cell_type": "code",
   "execution_count": 28,
   "metadata": {},
   "outputs": [],
   "source": [
    "wnl=WordNetLemmatizer()\n",
    "ptext=[]\n",
    "for text in data.text:\n",
    "    tmp = re.sub('[^a-zA-Z]', ' ', text)\n",
    "    tmp = tmp.lower()\n",
    "    tmp = tmp.split()\n",
    "    tmp = [wnl.lemmatize(word) for word in tmp if not word in (stopwords.words('english'))]\n",
    "    tmp = ' '.join(tmp)\n",
    "    ptext.append(tmp)"
   ]
  },
  {
   "cell_type": "code",
   "execution_count": 25,
   "metadata": {},
   "outputs": [
    {
     "name": "stdout",
     "output_type": "stream",
     "text": [
      "['go jurong point crazy available bugis n great world la e buffet cine got amore wat', 'ok lar joking wif u oni', 'free entry wkly comp win fa cup final tkts st may text fa receive entry question std txt rate c apply', 'u dun say early hor u c already say', 'nah think go usf life around though']\n",
      "0    Go until jurong point, crazy.. Available only ...\n",
      "1                        Ok lar... Joking wif u oni...\n",
      "2    Free entry in 2 a wkly comp to win FA Cup fina...\n",
      "3    U dun say so early hor... U c already then say...\n",
      "4    Nah I don't think he goes to usf, he lives aro...\n",
      "Name: text, dtype: object\n"
     ]
    }
   ],
   "source": [
    "print(ptext[:5])\n",
    "print(data.text[:5])"
   ]
  },
  {
   "cell_type": "code",
   "execution_count": 55,
   "metadata": {},
   "outputs": [
    {
     "data": {
      "text/plain": [
       "array([[0., 0., 0., ..., 0., 0., 0.],\n",
       "       [0., 0., 0., ..., 0., 0., 0.],\n",
       "       [0., 0., 0., ..., 0., 0., 0.],\n",
       "       ...,\n",
       "       [0., 0., 0., ..., 0., 0., 0.],\n",
       "       [0., 0., 0., ..., 0., 0., 0.],\n",
       "       [0., 0., 0., ..., 0., 0., 0.]])"
      ]
     },
     "execution_count": 55,
     "metadata": {},
     "output_type": "execute_result"
    }
   ],
   "source": [
    "cv = TfidfVectorizer()\n",
    "X = cv.fit_transform(ptext).toarray()\n",
    "y=data.target\n",
    "X.shape\n"
   ]
  },
  {
   "cell_type": "code",
   "execution_count": 62,
   "metadata": {},
   "outputs": [
    {
     "data": {
      "text/plain": [
       "(1671, 7098)"
      ]
     },
     "execution_count": 62,
     "metadata": {},
     "output_type": "execute_result"
    }
   ],
   "source": [
    "trainx,testx,trainy,testy=train_test_split(X,y,train_size=0.3,random_state=50)\n",
    "trainx.shape"
   ]
  },
  {
   "cell_type": "code",
   "execution_count": 86,
   "metadata": {},
   "outputs": [
    {
     "name": "stdout",
     "output_type": "stream",
     "text": [
      "train aaccuracy score 0.9473369239976063\n",
      "train aaccuracy score 0.9330940784414252\n",
      "confusin matrix \n",
      " [[3387  251]\n",
      " [  10  253]]\n"
     ]
    },
    {
     "name": "stderr",
     "output_type": "stream",
     "text": [
      "C:\\Users\\bharg\\Anaconda3\\lib\\site-packages\\sklearn\\linear_model\\logistic.py:432: FutureWarning: Default solver will be changed to 'lbfgs' in 0.22. Specify a solver to silence this warning.\n",
      "  FutureWarning)\n"
     ]
    }
   ],
   "source": [
    "lr=LogisticRegression()\n",
    "lr=lr.fit(trainx,trainy)\n",
    "trainYpred=lr.predict(trainx)\n",
    "print(\"train aaccuracy score\",accuracy_score(trainYpred,trainy))\n",
    "testYpred=lr.predict(testx)\n",
    "print(\"train aaccuracy score\",accuracy_score(testYpred,testy))\n",
    "print(\"confusin matrix \\n\",confusion_matrix(testYpred,testy))"
   ]
  },
  {
   "cell_type": "code",
   "execution_count": 87,
   "metadata": {},
   "outputs": [
    {
     "name": "stderr",
     "output_type": "stream",
     "text": [
      "C:\\Users\\bharg\\Anaconda3\\lib\\site-packages\\sklearn\\model_selection\\_split.py:1978: FutureWarning: The default value of cv will change from 3 to 5 in version 0.22. Specify it explicitly to silence this warning.\n",
      "  warnings.warn(CV_WARNING, FutureWarning)\n"
     ]
    },
    {
     "name": "stdout",
     "output_type": "stream",
     "text": [
      "train aaccuracy score 1.0\n",
      "train aaccuracy score 0.9733401691873879\n",
      "confusin matrix \n",
      " [[3384   91]\n",
      " [  13  413]]\n"
     ]
    }
   ],
   "source": [
    "lr=LogisticRegressionCV(n_jobs=-1)\n",
    "lr=lr.fit(trainx,trainy)\n",
    "trainYpred=lr.predict(trainx)\n",
    "print(\"train aaccuracy score\",accuracy_score(trainYpred,trainy))\n",
    "testYpred=lr.predict(testx)\n",
    "print(\"train aaccuracy score\",accuracy_score(testYpred,testy))\n",
    "print(\"confusin matrix \\n\",confusion_matrix(testYpred,testy))"
   ]
  },
  {
   "cell_type": "code",
   "execution_count": 89,
   "metadata": {},
   "outputs": [
    {
     "name": "stderr",
     "output_type": "stream",
     "text": [
      "C:\\Users\\bharg\\Anaconda3\\lib\\site-packages\\sklearn\\svm\\base.py:193: FutureWarning: The default value of gamma will change from 'auto' to 'scale' in version 0.22 to account better for unscaled features. Set gamma explicitly to 'auto' or 'scale' to avoid this warning.\n",
      "  \"avoid this warning.\", FutureWarning)\n"
     ]
    },
    {
     "name": "stdout",
     "output_type": "stream",
     "text": [
      "train aaccuracy score 0.8545780969479354\n",
      "train aaccuracy score 0.8708023583696488\n",
      "confusin matrix \n",
      " [[3397  504]\n",
      " [   0    0]]\n"
     ]
    }
   ],
   "source": [
    "svc=SVC()\n",
    "svc=svc.fit(trainx,trainy)\n",
    "trainYpred=svc.predict(trainx)\n",
    "print(\"train aaccuracy score\",accuracy_score(trainYpred,trainy))\n",
    "testYpred=svc.predict(testx)\n",
    "print(\"train aaccuracy score\",accuracy_score(testYpred,testy))\n",
    "print(\"confusin matrix \\n\",confusion_matrix(testYpred,testy))"
   ]
  },
  {
   "cell_type": "code",
   "execution_count": null,
   "metadata": {},
   "outputs": [],
   "source": []
  }
 ],
 "metadata": {
  "kernelspec": {
   "display_name": "Python 3",
   "language": "python",
   "name": "python3"
  },
  "language_info": {
   "codemirror_mode": {
    "name": "ipython",
    "version": 3
   },
   "file_extension": ".py",
   "mimetype": "text/x-python",
   "name": "python",
   "nbconvert_exporter": "python",
   "pygments_lexer": "ipython3",
   "version": "3.6.8"
  }
 },
 "nbformat": 4,
 "nbformat_minor": 2
}
